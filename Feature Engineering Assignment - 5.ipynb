{
 "cells": [
  {
   "cell_type": "code",
   "execution_count": 11,
   "id": "03ba0412",
   "metadata": {},
   "outputs": [
    {
     "name": "stdout",
     "output_type": "stream",
     "text": [
      "Pearson correlation coefficient: 0.9144126926985143\n",
      "P-value: 0.00021149416220069955\n",
      "The correlation is statistically significant.\n"
     ]
    }
   ],
   "source": [
    "'''Q1'''\n",
    "import scipy.stats\n",
    "\n",
    "# Sample data\n",
    "study_time = [10, 15, 8, 12, 20, 14, 18, 10, 16, 13]\n",
    "exam_scores = [85, 90, 78, 88, 95, 92, 94, 87, 91, 89]\n",
    "\n",
    "# Calculate Pearson correlation coefficient\n",
    "pearson_corr, p_value = scipy.stats.pearsonr(study_time, exam_scores)\n",
    "\n",
    "# Interpret the result\n",
    "print(f\"Pearson correlation coefficient: {pearson_corr}\")\n",
    "print(f\"P-value: {p_value}\")\n",
    "\n",
    "if p_value < 0.05:\n",
    "    print(\"The correlation is statistically significant.\")\n",
    "else:\n",
    "    print(\"The correlation is not statistically significant.\")\n"
   ]
  },
  {
   "cell_type": "code",
   "execution_count": 10,
   "id": "1783bf1a",
   "metadata": {},
   "outputs": [
    {
     "name": "stdout",
     "output_type": "stream",
     "text": [
      "Spearman's rank correlation coefficient: 0.9719509366333152\n",
      "P-value: 2.617929944393429e-06\n",
      "The correlation is statistically significant.\n"
     ]
    }
   ],
   "source": [
    "'''Q2'''\n",
    "import scipy.stats\n",
    "\n",
    "# Sample data\n",
    "sleep = [7, 6, 8, 5, 6, 7, 9, 5, 8, 7]\n",
    "job_satisfaction = [8, 7, 9, 5, 6, 8, 10, 4, 9, 7]\n",
    "\n",
    "# Calculate Spearman's rank correlation\n",
    "spearman_corr, p_value = scipy.stats.spearmanr(sleep, job_satisfaction)\n",
    "\n",
    "# Interpret the result\n",
    "print(f\"Spearman's rank correlation coefficient: {spearman_corr}\")\n",
    "print(f\"P-value: {p_value}\")\n",
    "\n",
    "if p_value < 0.05:\n",
    "    print(\"The correlation is statistically significant.\")\n",
    "else:\n",
    "    print(\"The correlation is not statistically significant.\")\n"
   ]
  },
  {
   "cell_type": "code",
   "execution_count": 9,
   "id": "a8c28bc8",
   "metadata": {},
   "outputs": [
    {
     "name": "stdout",
     "output_type": "stream",
     "text": [
      "Pearson correlation coefficient: -0.9662332650014418\n",
      "Spearman rank correlation coefficient: -0.970519399802766\n"
     ]
    }
   ],
   "source": [
    "'''Q3'''\n",
    "import numpy as np\n",
    "from scipy.stats import pearsonr, spearmanr\n",
    "\n",
    "# Sample data\n",
    "hours_of_exercise = np.array([3, 5, 2, 7, 4, 6, 1, 8, 5, 3,\n",
    "                              2, 6, 4, 7, 1, 3, 5, 8, 2, 6,\n",
    "                              4, 7, 1, 3, 5, 8, 2, 6, 4, 7,\n",
    "                              1, 3, 5, 8, 2, 6, 4, 7, 1, 3,\n",
    "                              5, 8, 2, 6, 4, 7, 1, 3, 5, 8])\n",
    "\n",
    "bmi = np.array([25, 22, 30, 20, 24, 21, 32, 19, 22, 26,\n",
    "                29, 20, 23, 18, 33, 27, 24, 18, 30, 21,\n",
    "                23, 19, 32, 28, 25, 18, 29, 20, 23, 19,\n",
    "                32, 28, 25, 18, 29, 20, 23, 19, 32, 28,\n",
    "                25, 18, 29, 20, 23, 19, 32, 28, 25, 18])\n",
    "\n",
    "# Calculate Pearson correlation coefficient\n",
    "pearson_corr, _ = pearsonr(hours_of_exercise, bmi)\n",
    "\n",
    "# Calculate Spearman rank correlation coefficient\n",
    "spearman_corr, _ = spearmanr(hours_of_exercise, bmi)\n",
    "\n",
    "# Print the results\n",
    "print(f\"Pearson correlation coefficient: {pearson_corr}\")\n",
    "print(f\"Spearman rank correlation coefficient: {spearman_corr}\")\n"
   ]
  },
  {
   "cell_type": "code",
   "execution_count": 8,
   "id": "a61ae70f",
   "metadata": {},
   "outputs": [
    {
     "name": "stdout",
     "output_type": "stream",
     "text": [
      "Pearson Correlation Coefficient: -0.30999999999999994\n"
     ]
    }
   ],
   "source": [
    "'''Q4'''\n",
    "import numpy as np\n",
    "\n",
    "# Assume you have two lists of data: hours of TV watching and level of physical activity\n",
    "tv_hours = [3, 2, 4, 1, 5, 2, 3, 4, 1, 5, 3, 2, 4, 1, 5, 3, 2, 4, 1, 5, 3, 2, 4, 1, 5,\n",
    "            3, 2, 4, 1, 5, 3, 2, 4, 1, 5, 3, 2, 4, 1, 5, 3, 2, 4, 1, 5, 3, 2, 4, 1, 5]\n",
    "\n",
    "physical_activity = [5, 4, 3, 2, 1, 5, 4, 3, 2, 1, 5, 4, 3, 2, 1, 5, 4, 3, 2, 1,\n",
    "                     5, 4, 3, 2, 1, 5, 4, 3, 2, 1, 5, 4, 3, 2, 1, 5, 4, 3, 2, 1,\n",
    "                     5, 4, 3, 2, 1, 5, 4, 3, 2, 1]\n",
    "\n",
    "# Calculate Pearson correlation coefficient using numpy\n",
    "pearson_corr_coeff = np.corrcoef(tv_hours, physical_activity)[0, 1]\n",
    "\n",
    "print(f\"Pearson Correlation Coefficient: {pearson_corr_coeff}\")\n"
   ]
  },
  {
   "cell_type": "code",
   "execution_count": 6,
   "id": "18f2036e",
   "metadata": {},
   "outputs": [
    {
     "name": "stdout",
     "output_type": "stream",
     "text": [
      "Pearson Correlation Coefficient: 0.7587035441865058\n"
     ]
    }
   ],
   "source": [
    "'''Q5'''\n",
    "import pandas as pd\n",
    "import numpy as np\n",
    "\n",
    "# Data\n",
    "data = {'Age': [25, 42, 37, 19, 31, 28],\n",
    "        'Soft_Drink_Preference': ['Coke', 'Pepsi', 'Mountain Dew', 'Coke', 'Pepsi', 'Coke']}\n",
    "\n",
    "# Creating a DataFrame\n",
    "df = pd.DataFrame(data)\n",
    "\n",
    "# Encoding soft drink preferences into numerical values\n",
    "# You can use LabelEncoder or map based on your preference\n",
    "# For simplicity, we will use map in this example\n",
    "soft_drink_mapping = {'Coke': 1, 'Pepsi': 2, 'Mountain Dew': 3}\n",
    "df['Soft_Drink_Preference_Num'] = df['Soft_Drink_Preference'].map(soft_drink_mapping)\n",
    "\n",
    "# Calculating Pearson correlation coefficient\n",
    "pearson_corr_coeff = np.corrcoef(df['Age'], df['Soft_Drink_Preference_Num'])[0, 1]\n",
    "\n",
    "print(f\"Pearson Correlation Coefficient: {pearson_corr_coeff}\")\n"
   ]
  },
  {
   "cell_type": "code",
   "execution_count": 7,
   "id": "9ced9382",
   "metadata": {},
   "outputs": [
    {
     "name": "stdout",
     "output_type": "stream",
     "text": [
      "Pearson Correlation Coefficient: 0.9805540938509139\n"
     ]
    }
   ],
   "source": [
    "'''Q6'''\n",
    "import numpy as np\n",
    "\n",
    "# Assume you have two lists of data: sales calls per day and sales per week\n",
    "sales_calls_per_day = [10, 15, 12, 8, 20, 14, 18, 9, 11, 16,\n",
    "                       13, 7, 19, 22, 17, 14, 10, 12, 15, 8,\n",
    "                       21, 11, 13, 16, 19, 23, 17, 15, 12, 20]\n",
    "\n",
    "sales_per_week = [50, 65, 55, 45, 80, 60, 75, 50, 52, 70,\n",
    "                  58, 40, 78, 85, 68, 55, 48, 60, 65, 42,\n",
    "                  90, 55, 58, 63, 77, 92, 70, 62, 58, 85]\n",
    "\n",
    "# Calculate Pearson correlation coefficient using numpy\n",
    "pearson_corr_coeff = np.corrcoef(sales_calls_per_day, sales_per_week)[0, 1]\n",
    "\n",
    "print(f\"Pearson Correlation Coefficient: {pearson_corr_coeff}\")\n"
   ]
  },
  {
   "cell_type": "code",
   "execution_count": null,
   "id": "8ed97d75",
   "metadata": {},
   "outputs": [],
   "source": []
  }
 ],
 "metadata": {
  "kernelspec": {
   "display_name": "Python 3 (ipykernel)",
   "language": "python",
   "name": "python3"
  },
  "language_info": {
   "codemirror_mode": {
    "name": "ipython",
    "version": 3
   },
   "file_extension": ".py",
   "mimetype": "text/x-python",
   "name": "python",
   "nbconvert_exporter": "python",
   "pygments_lexer": "ipython3",
   "version": "3.9.13"
  }
 },
 "nbformat": 4,
 "nbformat_minor": 5
}
